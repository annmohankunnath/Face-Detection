{
 "cells": [
  {
   "cell_type": "code",
   "execution_count": null,
   "metadata": {},
   "outputs": [],
   "source": [
    "import cv2\n",
    "\n",
    "face_cascade =cv2.CascadeClassifier(\"haarcascade_frontalface_default.xml\") # To load the Cascade Classifier\n",
    "img = cv2.imread(\"picture.jpg\",1) # To read the file named picture.jpg from the working directory\n",
    "gray_image = cv2.cvtColor(img,cv2.COLOR_BGR2GRAY) # To convert the image to gray scale\n",
    "faces = face_cascade.detectMultiScale(gray_image, # To detect faces in the image\n",
    "scaleFactor = 1.05,\n",
    "minNeighbors = 5\n",
    ")\n",
    "\n",
    "for x,y,w,h in faces:\n",
    "    img = cv2.rectangle(img, (x,y),(x+w,y+h),(0,255,0),3) # To draw a rectangle for all faces detected\n",
    "cv2.imshow(\"Gray image\",img) # To display the image with a title \"Gray image\" and the face tag\n",
    "cv2.waitKey(0) # To hold the image on the screen till the user inputs any key\n",
    "cv2.destroyAllWindows() # To destroy all the cv2 windows"
   ]
  }
 ],
 "metadata": {
  "kernelspec": {
   "display_name": "Python 3",
   "language": "python",
   "name": "python3"
  },
  "language_info": {
   "codemirror_mode": {
    "name": "ipython",
    "version": 3
   },
   "file_extension": ".py",
   "mimetype": "text/x-python",
   "name": "python",
   "nbconvert_exporter": "python",
   "pygments_lexer": "ipython3",
   "version": "3.6.4"
  }
 },
 "nbformat": 4,
 "nbformat_minor": 2
}
